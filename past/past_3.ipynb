{
 "cells": [
  {
   "cell_type": "markdown",
   "metadata": {},
   "source": [
    "# A"
   ]
  },
  {
   "cell_type": "code",
   "execution_count": null,
   "metadata": {},
   "outputs": [],
   "source": [
    "s = input()\n",
    "t = input()\n",
    "\n",
    "if s == t:\n",
    "    print('same')\n",
    "elif s.lower() == t.lower():\n",
    "    print('case-insensitive')\n",
    "else:\n",
    "    print('different')"
   ]
  },
  {
   "cell_type": "markdown",
   "metadata": {},
   "source": [
    "# B"
   ]
  },
  {
   "cell_type": "code",
   "execution_count": 19,
   "metadata": {},
   "outputs": [
    {
     "name": "stdin",
     "output_type": "stream",
     "text": [
      " 2 1 6\n",
      " 2 1 1\n",
      " 1 1\n"
     ]
    },
    {
     "name": "stdout",
     "output_type": "stream",
     "text": [
      "1\n"
     ]
    },
    {
     "name": "stdin",
     "output_type": "stream",
     "text": [
      " 1 2\n"
     ]
    },
    {
     "name": "stdout",
     "output_type": "stream",
     "text": [
      "0\n"
     ]
    },
    {
     "name": "stdin",
     "output_type": "stream",
     "text": [
      " 2 2 1\n",
      " 1 1\n"
     ]
    },
    {
     "name": "stdout",
     "output_type": "stream",
     "text": [
      "0\n"
     ]
    },
    {
     "name": "stdin",
     "output_type": "stream",
     "text": [
      " 1 2\n"
     ]
    },
    {
     "name": "stdout",
     "output_type": "stream",
     "text": [
      "0\n"
     ]
    }
   ],
   "source": [
    "n, m, q = map(int, input().split())\n",
    "questions = [n for i in range(m)]\n",
    "users = [[] for i in range(n)]\n",
    "\n",
    "for i in range(q):\n",
    "    query = list(map(int, input().split()))\n",
    "    if query[0] == 1:\n",
    "        user = query[1] - 1\n",
    "        ans = 0\n",
    "        for qu in users[user]:\n",
    "            ans += questions[qu]\n",
    "        print(ans)\n",
    "    else:\n",
    "        user = query[1] - 1\n",
    "        question = query[2] - 1\n",
    "        questions[question] = max(questions[question]-1, 0)\n",
    "        users[user].append(question)"
   ]
  },
  {
   "cell_type": "markdown",
   "metadata": {},
   "source": [
    "# C"
   ]
  },
  {
   "cell_type": "code",
   "execution_count": 17,
   "metadata": {},
   "outputs": [
    {
     "name": "stdin",
     "output_type": "stream",
     "text": [
      " 12 34 5\n"
     ]
    },
    {
     "name": "stdout",
     "output_type": "stream",
     "text": [
      "16036032\n"
     ]
    }
   ],
   "source": [
    "a, r, n = map(int, input().split())\n",
    "threshold = 10**9\n",
    "a_n = a\n",
    "for i in range(n-1):\n",
    "    a_n *= r\n",
    "    if a_n > threshold:\n",
    "        break\n",
    "if a_n > threshold:\n",
    "    print('large')\n",
    "else:\n",
    "    print(a_n)"
   ]
  },
  {
   "cell_type": "markdown",
   "metadata": {},
   "source": [
    "# D"
   ]
  },
  {
   "cell_type": "code",
   "execution_count": 24,
   "metadata": {},
   "outputs": [
    {
     "name": "stdin",
     "output_type": "stream",
     "text": [
      " 10\n",
      " .###..#..###.###.#.#.###.###.###.###.###.\n",
      " .#.#.##....#...#.#.#.#...#.....#.#.#.#.#.\n",
      " .#.#..#..###.###.###.###.###...#.###.###.\n",
      " .#.#..#..#.....#...#...#.#.#...#.#.#...#.\n",
      " .###.###.###.###...#.###.###...#.###.###.\n"
     ]
    },
    {
     "name": "stdout",
     "output_type": "stream",
     "text": [
      "[['.', '#', '#', '#', '.', '.', '#', '.', '.', '#', '#', '#', '.', '#', '#', '#', '.', '#', '.', '#', '.', '#', '#', '#', '.', '#', '#', '#', '.', '#', '#', '#', '.', '#', '#', '#', '.', '#', '#', '#', '.'], ['.', '#', '.', '#', '.', '#', '#', '.', '.', '.', '.', '#', '.', '.', '.', '#', '.', '#', '.', '#', '.', '#', '.', '.', '.', '#', '.', '.', '.', '.', '.', '#', '.', '#', '.', '#', '.', '#', '.', '#', '.'], ['.', '#', '.', '#', '.', '.', '#', '.', '.', '#', '#', '#', '.', '#', '#', '#', '.', '#', '#', '#', '.', '#', '#', '#', '.', '#', '#', '#', '.', '.', '.', '#', '.', '#', '#', '#', '.', '#', '#', '#', '.'], ['.', '#', '.', '#', '.', '.', '#', '.', '.', '#', '.', '.', '.', '.', '.', '#', '.', '.', '.', '#', '.', '.', '.', '#', '.', '#', '.', '#', '.', '.', '.', '#', '.', '#', '.', '#', '.', '.', '.', '#', '.'], ['.', '#', '#', '#', '.', '#', '#', '#', '.', '#', '#', '#', '.', '#', '#', '#', '.', '.', '.', '#', '.', '#', '#', '#', '.', '#', '#', '#', '.', '.', '.', '#', '.', '#', '#', '#', '.', '#', '#', '#', '.']]\n"
     ]
    }
   ],
   "source": [
    "import numpy as np\n",
    "\n",
    "original = []\n",
    "original.append(list('.###..#..###.###.#.#.###.###.###.###.###.'))\n",
    "original.append(list('.#.#.##....#...#.#.#.#...#.....#.#.#.#.#.'))\n",
    "original.append(list('.#.#..#..###.###.###.###.###...#.###.###.'))\n",
    "original.append(list('.#.#..#..#.....#...#...#.#.#...#.#.#...#.'))\n",
    "original.append(list('.###.###.###.###...#.###.###...#.###.###.'))\n",
    "original = np.array(original)\n",
    "numbers = [original[:, (i*4+1):((i+1)*4)].copy() for i in range(10)]\n",
    "\n",
    "\n",
    "n = int(input())\n",
    "table = []\n",
    "for i in range(5):\n",
    "    table.append(list(input()))\n",
    "table = np.array(table)\n",
    "\n",
    "ans = []\n",
    "for i in range(n):\n",
    "    for j in range(10):\n",
    "        if (table[:, (i*4+1):((i+1)*4)] == numbers[j]).all():\n",
    "            ans.append(str(j))\n",
    "print(''.join(ans))"
   ]
  },
  {
   "cell_type": "markdown",
   "metadata": {},
   "source": [
    "# E"
   ]
  },
  {
   "cell_type": "code",
   "execution_count": null,
   "metadata": {},
   "outputs": [],
   "source": [
    "n, m, q = map(int, input().split())\n",
    "\n",
    "# read and construct graph\n",
    "graph = [[] for i in range(n)]\n",
    "for i in range(m):\n",
    "    u, v = map(int, input().split())\n",
    "    graph[u-1].append(v-1)\n",
    "    graph[v-1].append(u-1)\n",
    "\n",
    "# read color\n",
    "colors = list(map(int, input().split()))\n",
    "\n",
    "# read query\n",
    "for i in range(q):\n",
    "    query = list(map(int, input().split()))\n",
    "    node = query[1] - 1\n",
    "    print(colors[node])\n",
    "    if query[0] == 1:\n",
    "        c = colors[node]\n",
    "        for v in graph[node]:\n",
    "            colors[v] = c\n",
    "    else:\n",
    "        colors[node] = query[2]"
   ]
  },
  {
   "cell_type": "markdown",
   "metadata": {},
   "source": [
    "# F"
   ]
  },
  {
   "cell_type": "code",
   "execution_count": 119,
   "metadata": {},
   "outputs": [
    {
     "name": "stdin",
     "output_type": "stream",
     "text": [
      " 3\n",
      " ycs\n",
      " kjk\n",
      " ecy\n"
     ]
    },
    {
     "name": "stdout",
     "output_type": "stream",
     "text": [
      "yjy\n"
     ]
    }
   ],
   "source": [
    "n = int(input())\n",
    "table = []\n",
    "for i in range(n):\n",
    "    table.append(set(input()))\n",
    "    \n",
    "if n == 1:\n",
    "    print(list(table[0])[0])\n",
    "else:\n",
    "    flag = False\n",
    "    ans = [0 for i in range(n)]\n",
    "    for i in range(n//2):\n",
    "        inter = list(table[i] & table[n-i-1])\n",
    "        if len(inter) == 0:\n",
    "            flag = True\n",
    "            break\n",
    "        else:\n",
    "            ans[i] = inter[0]\n",
    "            ans[n-i-1] = inter[0]\n",
    "    if n % 2 == 1:\n",
    "        ans[n//2] =list(table[n//2])[0]\n",
    "\n",
    "    if flag:\n",
    "        print(-1)\n",
    "    else:\n",
    "        print(''.join(ans))"
   ]
  },
  {
   "cell_type": "markdown",
   "metadata": {},
   "source": [
    "# I"
   ]
  },
  {
   "cell_type": "code",
   "execution_count": 61,
   "metadata": {},
   "outputs": [
    {
     "name": "stdin",
     "output_type": "stream",
     "text": [
      " 2\n"
     ]
    }
   ],
   "source": [
    "import numpy as np\n",
    "\n",
    "n = int(input())\n",
    "a = np.zeros((n, n))\n",
    "for i in range(n):\n",
    "    for j in range(n):\n",
    "        a[i, j] = n*i + j\n",
    "\n",
    "q = int(input())\n",
    "for i in range(q):\n",
    "    query = list(map(int, input().split()))\n",
    "    if query[0] == 1:\n",
    "        r1 = query[1] - 1\n",
    "        r2 = query[2] - 1\n",
    "        a[r1], a[r2] = a[r2], a[r1].copy()\n",
    "    elif query[0] == 2:\n",
    "        c1 = query[1] - 1\n",
    "        c2 = query[2] - 1\n",
    "        a[:, c1], a[:, c2] = a[:, c2], a[:, c1].copy()\n",
    "    elif query[0] == 3:\n",
    "        a = a.T\n",
    "    else:\n",
    "        r = query[1] - 1\n",
    "        c = query[2] - 1\n",
    "        print(int(a[r, c]))"
   ]
  },
  {
   "cell_type": "code",
   "execution_count": 121,
   "metadata": {},
   "outputs": [],
   "source": [
    "a = np.zeros((n, n))"
   ]
  }
 ],
 "metadata": {
  "kernelspec": {
   "display_name": "Python 3",
   "language": "python",
   "name": "python3"
  },
  "language_info": {
   "codemirror_mode": {
    "name": "ipython",
    "version": 3
   },
   "file_extension": ".py",
   "mimetype": "text/x-python",
   "name": "python",
   "nbconvert_exporter": "python",
   "pygments_lexer": "ipython3",
   "version": "3.7.3"
  }
 },
 "nbformat": 4,
 "nbformat_minor": 2
}
