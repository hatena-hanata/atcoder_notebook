{
 "cells": [
  {
   "cell_type": "markdown",
   "metadata": {},
   "source": [
    "# A"
   ]
  },
  {
   "cell_type": "code",
   "execution_count": 4,
   "metadata": {},
   "outputs": [
    {
     "name": "stdin",
     "output_type": "stream",
     "text": [
      " 4 3\n"
     ]
    },
    {
     "name": "stdout",
     "output_type": "stream",
     "text": [
      "9\n"
     ]
    }
   ],
   "source": [
    "n, m = map(int, input().split(' '))\n",
    "ans = int(n * (n-1) / 2 + m * (m-1) / 2)\n",
    "print(ans)"
   ]
  },
  {
   "cell_type": "markdown",
   "metadata": {},
   "source": [
    "# B"
   ]
  },
  {
   "cell_type": "code",
   "execution_count": 17,
   "metadata": {},
   "outputs": [
    {
     "name": "stdin",
     "output_type": "stream",
     "text": [
      " level\n"
     ]
    },
    {
     "name": "stdout",
     "output_type": "stream",
     "text": [
      "No\n"
     ]
    }
   ],
   "source": [
    "def is_kaibun(s):\n",
    "    n = len(s)\n",
    "    end = n // 2\n",
    "    for i in range(end):\n",
    "        if s[i] != s[n-1-i]:\n",
    "            return False\n",
    "    return True\n",
    "\n",
    "s = input()\n",
    "n = len(s)\n",
    "\n",
    "pivot = (n - 1) //2\n",
    "pre = s[:pivot]\n",
    "post = s[pivot+1:]\n",
    "\n",
    "if pre == post and is_kaibun(pre) and is_kaibun(post):\n",
    "    print('Yes')\n",
    "else:\n",
    "    print('No')"
   ]
  },
  {
   "cell_type": "markdown",
   "metadata": {},
   "source": [
    "# C"
   ]
  },
  {
   "cell_type": "code",
   "execution_count": 19,
   "metadata": {},
   "outputs": [
    {
     "name": "stdin",
     "output_type": "stream",
     "text": [
      " 999\n"
     ]
    },
    {
     "name": "stdout",
     "output_type": "stream",
     "text": [
      "36926037.0\n"
     ]
    }
   ],
   "source": [
    "L = int(input())\n",
    "a = L / 3\n",
    "ans = a * a * a\n",
    "print(ans)"
   ]
  },
  {
   "cell_type": "markdown",
   "metadata": {},
   "source": [
    "# D"
   ]
  },
  {
   "cell_type": "code",
   "execution_count": 34,
   "metadata": {},
   "outputs": [
    {
     "name": "stdin",
     "output_type": "stream",
     "text": [
      " 8\n",
      " 1 2 1 4 2 1 4 1\n"
     ]
    },
    {
     "name": "stdout",
     "output_type": "stream",
     "text": [
      "5\n",
      "7\n",
      "5\n",
      "7\n",
      "7\n",
      "5\n",
      "7\n",
      "5\n"
     ]
    }
   ],
   "source": [
    "import collections\n",
    "\n",
    "n = int(input())\n",
    "a = list(map(int, input().split(' ')))\n",
    "c = collections.Counter(a)\n",
    "dict_1 = {}\n",
    "dict_2 = {}\n",
    "for key, value in c.items():\n",
    "    dict_1[key] = value * (value-1) // 2\n",
    "    if value - 1 == 0:\n",
    "        dict_2[key] = 0\n",
    "    else:\n",
    "        dict_2[key] = (value-1) * (value-2) // 2\n",
    "    \n",
    "for k in range(n):\n",
    "    ans = 0\n",
    "    for key, val in dict_1.items():\n",
    "        if key == a[k]:\n",
    "            ans += dict_2[key]\n",
    "        else:\n",
    "            ans += dict_1[key]\n",
    "    print(ans)"
   ]
  },
  {
   "cell_type": "code",
   "execution_count": 39,
   "metadata": {},
   "outputs": [
    {
     "name": "stdin",
     "output_type": "stream",
     "text": [
      " 8\n",
      " 1 2 1 4 2 1 4 1\n"
     ]
    },
    {
     "name": "stdout",
     "output_type": "stream",
     "text": [
      "5\n",
      "7\n",
      "5\n",
      "7\n",
      "7\n",
      "5\n",
      "7\n",
      "5\n"
     ]
    }
   ],
   "source": [
    "n = int(input())\n",
    "a = list(map(int, input().split(' ')))\n",
    "dic = {}\n",
    "com = {}\n",
    "ans = 0\n",
    "for v in a:\n",
    "    try:\n",
    "        t = dic[v]\n",
    "        ans += t\n",
    "        com[v] += t\n",
    "        dic[v] += 1\n",
    "    except:\n",
    "        dic[v] = 1\n",
    "        com[v] = 0\n",
    "\n",
    "for k in range(n):\n",
    "    print(ans - (dic[a[k]]-1))"
   ]
  },
  {
   "cell_type": "code",
   "execution_count": null,
   "metadata": {},
   "outputs": [],
   "source": []
  },
  {
   "cell_type": "code",
   "execution_count": null,
   "metadata": {},
   "outputs": [],
   "source": []
  },
  {
   "cell_type": "code",
   "execution_count": null,
   "metadata": {},
   "outputs": [],
   "source": []
  }
 ],
 "metadata": {
  "kernelspec": {
   "display_name": "Python 3",
   "language": "python",
   "name": "python3"
  },
  "language_info": {
   "codemirror_mode": {
    "name": "ipython",
    "version": 3
   },
   "file_extension": ".py",
   "mimetype": "text/x-python",
   "name": "python",
   "nbconvert_exporter": "python",
   "pygments_lexer": "ipython3",
   "version": "3.7.3"
  }
 },
 "nbformat": 4,
 "nbformat_minor": 2
}
