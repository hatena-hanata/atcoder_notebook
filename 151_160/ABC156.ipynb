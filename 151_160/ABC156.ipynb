{
 "cells": [
  {
   "cell_type": "markdown",
   "metadata": {},
   "source": [
    "# A"
   ]
  },
  {
   "cell_type": "code",
   "execution_count": 2,
   "metadata": {},
   "outputs": [
    {
     "name": "stdin",
     "output_type": "stream",
     "text": [
      " 22 3051\n"
     ]
    },
    {
     "name": "stdout",
     "output_type": "stream",
     "text": [
      "3051\n"
     ]
    }
   ],
   "source": [
    "n, r = map(int, input().split(' '))\n",
    "\n",
    "if n >= 10:\n",
    "    ans = r\n",
    "else:\n",
    "    ans = r + 100 * (10 - n)\n",
    "\n",
    "print(ans)"
   ]
  },
  {
   "cell_type": "markdown",
   "metadata": {},
   "source": [
    "# B"
   ]
  },
  {
   "cell_type": "code",
   "execution_count": 5,
   "metadata": {},
   "outputs": [
    {
     "name": "stdin",
     "output_type": "stream",
     "text": [
      " 314159265 3\n"
     ]
    },
    {
     "name": "stdout",
     "output_type": "stream",
     "text": [
      "18\n"
     ]
    }
   ],
   "source": [
    "n, k = map(int, input().split(' '))\n",
    "ans = 1\n",
    "while n >= k:\n",
    "    n = n // k\n",
    "    ans += 1\n",
    "print(ans)"
   ]
  },
  {
   "cell_type": "markdown",
   "metadata": {},
   "source": [
    "# C"
   ]
  },
  {
   "cell_type": "code",
   "execution_count": 27,
   "metadata": {},
   "outputs": [
    {
     "name": "stdin",
     "output_type": "stream",
     "text": [
      " 2\n",
      " 1 4\n"
     ]
    },
    {
     "name": "stdout",
     "output_type": "stream",
     "text": [
      "5\n"
     ]
    }
   ],
   "source": [
    "import numpy as np\n",
    "\n",
    "n = int(input())\n",
    "a = np.array(list(map(int, input().split(' '))))\n",
    "avg = np.mean(a)\n",
    "mid_1 = np.ceil(avg)\n",
    "mid_2 = np.floor(avg)\n",
    "ans = int(min(((a-mid_1)**2).sum(), ((a-mid_2)**2).sum()))\n",
    "print(ans)"
   ]
  },
  {
   "cell_type": "markdown",
   "metadata": {},
   "source": [
    "# D"
   ]
  },
  {
   "cell_type": "code",
   "execution_count": 82,
   "metadata": {},
   "outputs": [
    {
     "name": "stdin",
     "output_type": "stream",
     "text": [
      " 1000000000 141421 173205\n"
     ]
    },
    {
     "name": "stdout",
     "output_type": "stream",
     "text": [
      "34076506\n"
     ]
    }
   ],
   "source": [
    "n, a, b = map(int, input().split())\n",
    "MOD = 10 ** 9 + 7\n",
    "def comb(n, r, mod):\n",
    "    k = min(n - r, r)\n",
    "    res = 1\n",
    "    for i in range(k):\n",
    "        res = (res * (n - i) * pow(i + 1, mod - 2, mod)) % mod\n",
    "    return res\n",
    "\n",
    "print((pow(2, n, MOD) - 1- comb(n, a, MOD) - comb(n, b, MOD))　%　MOD)"
   ]
  }
 ],
 "metadata": {
  "kernelspec": {
   "display_name": "Python 3",
   "language": "python",
   "name": "python3"
  },
  "language_info": {
   "codemirror_mode": {
    "name": "ipython",
    "version": 3
   },
   "file_extension": ".py",
   "mimetype": "text/x-python",
   "name": "python",
   "nbconvert_exporter": "python",
   "pygments_lexer": "ipython3",
   "version": "3.7.3"
  }
 },
 "nbformat": 4,
 "nbformat_minor": 2
}
