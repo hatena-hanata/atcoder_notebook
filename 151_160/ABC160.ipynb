{
 "cells": [
  {
   "cell_type": "markdown",
   "metadata": {},
   "source": [
    "# A"
   ]
  },
  {
   "cell_type": "code",
   "execution_count": 3,
   "metadata": {},
   "outputs": [
    {
     "name": "stdin",
     "output_type": "stream",
     "text": [
      " coffee\n"
     ]
    },
    {
     "name": "stdout",
     "output_type": "stream",
     "text": [
      "Yes\n"
     ]
    }
   ],
   "source": [
    "s = input()\n",
    "if s[2] == s[3] and s[4] == s[5]:\n",
    "    print('Yes')\n",
    "else:\n",
    "    print('No')"
   ]
  },
  {
   "cell_type": "markdown",
   "metadata": {},
   "source": [
    "# B"
   ]
  },
  {
   "cell_type": "code",
   "execution_count": 7,
   "metadata": {},
   "outputs": [
    {
     "name": "stdin",
     "output_type": "stream",
     "text": [
      " 1000000000\n"
     ]
    },
    {
     "name": "stdout",
     "output_type": "stream",
     "text": [
      "2000000000\n"
     ]
    }
   ],
   "source": [
    "x = int(input())\n",
    "r = x % 500\n",
    "a = x // 500\n",
    "\n",
    "b = r // 5\n",
    "\n",
    "ans = a * 1000 + b * 5\n",
    "print(ans)"
   ]
  },
  {
   "cell_type": "markdown",
   "metadata": {},
   "source": [
    "# C"
   ]
  },
  {
   "cell_type": "code",
   "execution_count": 7,
   "metadata": {},
   "outputs": [
    {
     "name": "stdin",
     "output_type": "stream",
     "text": [
      " 100 4\n",
      " 10 30 50 80\n"
     ]
    },
    {
     "name": "stdout",
     "output_type": "stream",
     "text": [
      "70\n"
     ]
    }
   ],
   "source": [
    "k, n = map(int, input().split(' '))\n",
    "a = list(map(int, input().split(' ')))\n",
    "a.append(k+a[0])\n",
    "\n",
    "max_value = -1\n",
    "ans = 0\n",
    "for i in range(1, n+1):\n",
    "    tmp_d = a[i] - a[i-1]\n",
    "    ans += tmp_d\n",
    "    max_value = max(max_value, tmp_d)\n",
    "ans -= max_value\n",
    "print(ans)"
   ]
  },
  {
   "cell_type": "markdown",
   "metadata": {},
   "source": [
    "# D"
   ]
  },
  {
   "cell_type": "code",
   "execution_count": 29,
   "metadata": {},
   "outputs": [
    {
     "name": "stdin",
     "output_type": "stream",
     "text": [
      " 5 2 4\n"
     ]
    }
   ],
   "source": [
    "n, x, y = map(int, input().split(' '))"
   ]
  },
  {
   "cell_type": "code",
   "execution_count": 37,
   "metadata": {},
   "outputs": [
    {
     "name": "stdout",
     "output_type": "stream",
     "text": [
      "4\n",
      "4\n",
      "2\n",
      "0\n"
     ]
    }
   ],
   "source": [
    "# table = [[0] * (n+1) for i in range(n+1)]\n",
    "ans_list = [0 for i in range(n+1)]\n",
    "mid = (x + y) // 2\n",
    "\n",
    "for start in range(1, n+1):\n",
    "    if start <= x:\n",
    "        for end in range(start+1, mid+1):\n",
    "            d = end - start\n",
    "            # table[start][end] = d\n",
    "            ans_list[d] += 1\n",
    "        for end in range(mid+1, y):\n",
    "            d = (x-1) + 1 + (end-y)\n",
    "            table[start][end] = d\n",
    "            ans_list[d] += 1\n",
    "            \n",
    "            \n",
    "    elif start >= y:\n",
    "        for end in range(start+1, n+1):\n",
    "            d = end - start\n",
    "            table[start][end] = d\n",
    "            ans_list[d] += 1\n",
    "\n",
    "for ans in ans_list[1:]:\n",
    "    print(ans)"
   ]
  },
  {
   "cell_type": "code",
   "execution_count": 38,
   "metadata": {},
   "outputs": [
    {
     "data": {
      "text/plain": [
       "[[0, 0, 0, 0, 0, 0],\n",
       " [0, 0, 1, 2, 2, 3],\n",
       " [0, 0, 0, 1, 2, 3],\n",
       " [0, 0, 0, 0, 1, 2],\n",
       " [0, 0, 0, 0, 0, 1],\n",
       " [0, 0, 0, 0, 0, 0]]"
      ]
     },
     "execution_count": 38,
     "metadata": {},
     "output_type": "execute_result"
    }
   ],
   "source": [
    "table"
   ]
  }
 ],
 "metadata": {
  "kernelspec": {
   "display_name": "Python 3",
   "language": "python",
   "name": "python3"
  },
  "language_info": {
   "codemirror_mode": {
    "name": "ipython",
    "version": 3
   },
   "file_extension": ".py",
   "mimetype": "text/x-python",
   "name": "python",
   "nbconvert_exporter": "python",
   "pygments_lexer": "ipython3",
   "version": "3.7.3"
  }
 },
 "nbformat": 4,
 "nbformat_minor": 2
}
