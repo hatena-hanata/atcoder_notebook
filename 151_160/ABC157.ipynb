{
 "cells": [
  {
   "cell_type": "markdown",
   "metadata": {},
   "source": [
    "# A"
   ]
  },
  {
   "cell_type": "code",
   "execution_count": 3,
   "metadata": {},
   "outputs": [
    {
     "name": "stdin",
     "output_type": "stream",
     "text": [
      " 100\n"
     ]
    },
    {
     "name": "stdout",
     "output_type": "stream",
     "text": [
      "50\n"
     ]
    }
   ],
   "source": [
    "import math\n",
    "n = int(input())\n",
    "print(math.ceil(n/2))"
   ]
  },
  {
   "cell_type": "markdown",
   "metadata": {},
   "source": [
    "# B"
   ]
  },
  {
   "cell_type": "code",
   "execution_count": 20,
   "metadata": {},
   "outputs": [
    {
     "name": "stdin",
     "output_type": "stream",
     "text": [
      " 84 97 66\n",
      " 79 89 11\n",
      " 61 59 7\n",
      " 7\n",
      " 89\n",
      " 7\n",
      " 87\n",
      " 79\n",
      " 24\n",
      " 84\n",
      " 30\n"
     ]
    },
    {
     "name": "stdout",
     "output_type": "stream",
     "text": [
      "Yes\n"
     ]
    }
   ],
   "source": [
    "import numpy as np\n",
    "\n",
    "a = [[0] * 3 for i in range(3)]\n",
    "for i in range(3):\n",
    "    a[i] = list(map(int, input().split(' ')))\n",
    "\n",
    "n = int(input())\n",
    "\n",
    "for i in range(n):\n",
    "    b = int(input())\n",
    "    \n",
    "    for r in range(3):\n",
    "        for c in range(3):\n",
    "            if a[r][c] == b:\n",
    "                a[r][c] = 0\n",
    "\n",
    "a = np.array(a)\n",
    "sum1 = a.sum(axis=0)\n",
    "sum2 = a.sum(axis=1)\n",
    "naname1 = a[0][0] + a[1][1] + a[2][2]\n",
    "naname2 = a[0][2] + a[1][1] + a[2][0]\n",
    "\n",
    "if 0 in sum1 or 0 in sum2 or naname1 == 0 or naname2 == 0:\n",
    "    print('Yes')\n",
    "else:\n",
    "    print('No')"
   ]
  },
  {
   "cell_type": "markdown",
   "metadata": {},
   "source": [
    "# C"
   ]
  },
  {
   "cell_type": "code",
   "execution_count": 19,
   "metadata": {},
   "outputs": [
    {
     "name": "stdin",
     "output_type": "stream",
     "text": [
      " 3 1\n",
      " 1 0\n"
     ]
    },
    {
     "name": "stdout",
     "output_type": "stream",
     "text": [
      "-1\n"
     ]
    }
   ],
   "source": [
    "n, m = map(int, input().split(' '))\n",
    "if n == 1:\n",
    "    start = 0\n",
    "else:\n",
    "    start = 10**(n-1)\n",
    "end = 10**n\n",
    "\n",
    "query = [[0]*2 for i in range(m)]\n",
    "\n",
    "for i in range(m):\n",
    "    query[i][0], query[i][1] = map(int, input().split(' '))\n",
    "\n",
    "for i in range(start, end):\n",
    "    flag = True\n",
    "    i_str = str(i)\n",
    "    for q in query:\n",
    "        s = q[0]\n",
    "        c = str(q[1])\n",
    "        if i_str[s-1] != c:\n",
    "            flag = False\n",
    "            break\n",
    "    if flag:\n",
    "        ans = i\n",
    "        break\n",
    "        \n",
    "if flag is False:\n",
    "    print(-1)\n",
    "else:\n",
    "    print(ans)"
   ]
  },
  {
   "cell_type": "code",
   "execution_count": null,
   "metadata": {},
   "outputs": [],
   "source": []
  }
 ],
 "metadata": {
  "kernelspec": {
   "display_name": "Python 3",
   "language": "python",
   "name": "python3"
  },
  "language_info": {
   "codemirror_mode": {
    "name": "ipython",
    "version": 3
   },
   "file_extension": ".py",
   "mimetype": "text/x-python",
   "name": "python",
   "nbconvert_exporter": "python",
   "pygments_lexer": "ipython3",
   "version": "3.7.3"
  }
 },
 "nbformat": 4,
 "nbformat_minor": 2
}
