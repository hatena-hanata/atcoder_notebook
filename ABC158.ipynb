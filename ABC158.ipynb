{
 "cells": [
  {
   "cell_type": "markdown",
   "metadata": {},
   "source": [
    "# A"
   ]
  },
  {
   "cell_type": "code",
   "execution_count": null,
   "metadata": {},
   "outputs": [],
   "source": [
    "s = input()\n",
    "if s == 'AAA' or s == 'BBB':\n",
    "    print('No')\n",
    "else:\n",
    "    print('Yes')"
   ]
  },
  {
   "cell_type": "markdown",
   "metadata": {},
   "source": [
    "# B"
   ]
  },
  {
   "cell_type": "code",
   "execution_count": 8,
   "metadata": {},
   "outputs": [
    {
     "name": "stdin",
     "output_type": "stream",
     "text": [
      " 6 2 4\n"
     ]
    },
    {
     "name": "stdout",
     "output_type": "stream",
     "text": [
      "2\n"
     ]
    }
   ],
   "source": [
    "n, a, b = map(int, input().split(' '))\n",
    "s = a + b\n",
    "q = n // s\n",
    "r = n % s\n",
    "ans = q * a + min(r, a)\n",
    "print(ans)"
   ]
  },
  {
   "cell_type": "markdown",
   "metadata": {},
   "source": [
    "# C"
   ]
  },
  {
   "cell_type": "code",
   "execution_count": 20,
   "metadata": {},
   "outputs": [
    {
     "name": "stdin",
     "output_type": "stream",
     "text": [
      " 9 12\n"
     ]
    },
    {
     "name": "stdout",
     "output_type": "stream",
     "text": [
      "120\n"
     ]
    }
   ],
   "source": [
    "import math\n",
    "\n",
    "a, b = map(int, input().split(' '))\n",
    "aa = math.ceil(a / 0.08)\n",
    "bb = math.ceil(b / 0.1)\n",
    "\n",
    "if aa == bb:\n",
    "    ans = aa\n",
    "elif aa < bb:\n",
    "    if math.floor(bb * 0.08) != a:\n",
    "        ans = -1\n",
    "    else:\n",
    "        ans = bb\n",
    "else:\n",
    "    if math.floor(aa * 0.1) != b:\n",
    "        ans = -1\n",
    "    else:\n",
    "        ans = aa\n",
    "print(ans)"
   ]
  },
  {
   "cell_type": "markdown",
   "metadata": {},
   "source": [
    "# D"
   ]
  },
  {
   "cell_type": "code",
   "execution_count": 52,
   "metadata": {},
   "outputs": [
    {
     "name": "stdin",
     "output_type": "stream",
     "text": [
      " a\n",
      " 6\n",
      " 2 2 a\n",
      " 2 1 b\n",
      " 1\n",
      " 2 2 c\n",
      " 1\n",
      " 1\n"
     ]
    },
    {
     "name": "stdout",
     "output_type": "stream",
     "text": [
      "aabc\n"
     ]
    }
   ],
   "source": [
    "from collections import deque\n",
    "\n",
    "s = input()\n",
    "n = int(input())\n",
    "a = deque()\n",
    "b = deque()\n",
    "reverse_flag = False\n",
    "\n",
    "for i in range(n):\n",
    "    command = input()\n",
    "    # reverse\n",
    "    if len(command) == 1:\n",
    "        reverse_flag = not reverse_flag\n",
    "    \n",
    "    else:\n",
    "        _, t, f = command.split(' ')\n",
    "        if t == '1':\n",
    "            if reverse_flag:\n",
    "                b.append(f)\n",
    "            else:\n",
    "                a.appendleft(f)\n",
    "        else:\n",
    "            if reverse_flag:\n",
    "                \n",
    "                a.appendleft(f)\n",
    "            else:\n",
    "                b.append(f)\n",
    "\n",
    "a = list(a)\n",
    "b = list(b)\n",
    "if reverse_flag:\n",
    "    print(''.join(b[::-1]) + s[::-1] + ''.join(a[::-1]))\n",
    "else:\n",
    "    print(''.join(a) + s + ''.join(b))"
   ]
  },
  {
   "cell_type": "code",
   "execution_count": 51,
   "metadata": {},
   "outputs": [
    {
     "data": {
      "text/plain": [
       "'cb'"
      ]
     },
     "execution_count": 51,
     "metadata": {},
     "output_type": "execute_result"
    }
   ],
   "source": [
    "''.join(a)"
   ]
  },
  {
   "cell_type": "code",
   "execution_count": 33,
   "metadata": {},
   "outputs": [
    {
     "data": {
      "text/plain": [
       "True"
      ]
     },
     "execution_count": 33,
     "metadata": {},
     "output_type": "execute_result"
    }
   ],
   "source": [
    "reverse_flag"
   ]
  },
  {
   "cell_type": "code",
   "execution_count": null,
   "metadata": {},
   "outputs": [],
   "source": []
  },
  {
   "cell_type": "code",
   "execution_count": null,
   "metadata": {},
   "outputs": [],
   "source": []
  },
  {
   "cell_type": "code",
   "execution_count": null,
   "metadata": {},
   "outputs": [],
   "source": []
  },
  {
   "cell_type": "code",
   "execution_count": null,
   "metadata": {},
   "outputs": [],
   "source": []
  },
  {
   "cell_type": "code",
   "execution_count": null,
   "metadata": {},
   "outputs": [],
   "source": []
  },
  {
   "cell_type": "code",
   "execution_count": null,
   "metadata": {},
   "outputs": [],
   "source": []
  }
 ],
 "metadata": {
  "kernelspec": {
   "display_name": "Python 3",
   "language": "python",
   "name": "python3"
  },
  "language_info": {
   "codemirror_mode": {
    "name": "ipython",
    "version": 3
   },
   "file_extension": ".py",
   "mimetype": "text/x-python",
   "name": "python",
   "nbconvert_exporter": "python",
   "pygments_lexer": "ipython3",
   "version": "3.7.3"
  }
 },
 "nbformat": 4,
 "nbformat_minor": 2
}
