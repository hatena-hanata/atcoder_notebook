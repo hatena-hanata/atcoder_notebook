{
 "cells": [
  {
   "cell_type": "markdown",
   "metadata": {},
   "source": [
    "# A"
   ]
  },
  {
   "cell_type": "code",
   "execution_count": 1,
   "metadata": {
    "ExecuteTime": {
     "end_time": "2021-03-05T15:30:40.718997Z",
     "start_time": "2021-03-05T15:30:40.248991Z"
    }
   },
   "outputs": [
    {
     "name": "stdout",
     "output_type": "stream",
     "text": [
      "2\n",
      "White\n"
     ]
    }
   ],
   "source": [
    "n = int(input())\n",
    "\n",
    "if n % 2 == 0:\n",
    "    res = 'White'\n",
    "else:\n",
    "    res = 'Black'\n",
    "\n",
    "print(res)"
   ]
  },
  {
   "cell_type": "markdown",
   "metadata": {},
   "source": [
    "# B"
   ]
  },
  {
   "cell_type": "code",
   "execution_count": 9,
   "metadata": {
    "ExecuteTime": {
     "end_time": "2021-03-05T15:34:34.178064Z",
     "start_time": "2021-03-05T15:34:22.980059Z"
    }
   },
   "outputs": [
    {
     "name": "stdout",
     "output_type": "stream",
     "text": [
      "3\n",
      "11 13\n",
      "17 47\n",
      "359 44683\n",
      "998244353\n"
     ]
    }
   ],
   "source": [
    "n = int(input())\n",
    "\n",
    "res = 0\n",
    "for i in range(n):\n",
    "    a, b = list(map(int, input().split(' ')))\n",
    "    res += int((a + b) * (b - a + 1) * 0.5)\n",
    "print(res)"
   ]
  },
  {
   "cell_type": "markdown",
   "metadata": {},
   "source": [
    "# C"
   ]
  },
  {
   "cell_type": "code",
   "execution_count": 29,
   "metadata": {
    "ExecuteTime": {
     "end_time": "2021-03-05T15:49:54.253550Z",
     "start_time": "2021-03-05T15:49:48.217610Z"
    }
   },
   "outputs": [
    {
     "name": "stdout",
     "output_type": "stream",
     "text": [
      "4\n",
      "0 1\n",
      "0 2\n",
      "0 3\n",
      "1 1\n",
      "Yes\n"
     ]
    }
   ],
   "source": [
    "import numpy as  np\n",
    "\n",
    "\n",
    "def check(array):\n",
    "    if len(set(array[:, 0])) == 1:\n",
    "        return True\n",
    "    if len(set(array[:, 1])) == 1:\n",
    "        return True\n",
    "    try:\n",
    "        slope1 = (array[0][1] - array[1][1]) / (array[0][0] - array[1][0])\n",
    "        slope2 = (array[0][1] - array[2][1]) / (array[0][0] - array[2][0])\n",
    "    except:\n",
    "        return False\n",
    "    if slope1 == slope2:\n",
    "        return True\n",
    "    return False\n",
    "\n",
    "\n",
    "n = int(input())\n",
    "\n",
    "data = []\n",
    "for i in range(n):\n",
    "    data.append(list(map(int, input().split(' '))))\n",
    "data = np.array(data)\n",
    "\n",
    "\n",
    "flag = False\n",
    "for i in range(n):\n",
    "    for j in range(i+1, n):\n",
    "        for k in range(j+1, n):\n",
    "            flag = check(data[[i, j, k]])\n",
    "            if flag:\n",
    "                break\n",
    "        if flag:\n",
    "            break\n",
    "    if flag:\n",
    "        break\n",
    "\n",
    "if flag:\n",
    "    print('Yes')\n",
    "else:\n",
    "    print('No')"
   ]
  },
  {
   "cell_type": "markdown",
   "metadata": {},
   "source": [
    "# D"
   ]
  },
  {
   "cell_type": "code",
   "execution_count": 95,
   "metadata": {
    "ExecuteTime": {
     "end_time": "2021-03-05T16:25:06.811516Z",
     "start_time": "2021-03-05T16:24:56.890389Z"
    }
   },
   "outputs": [
    {
     "name": "stdout",
     "output_type": "stream",
     "text": [
      "111122223333444455556666777788889999\n",
      "Yes\n"
     ]
    }
   ],
   "source": [
    "import collections\n",
    "import itertools\n",
    "\n",
    "s = input()\n",
    "flag = False\n",
    "\n",
    "if len(s) == 1:\n",
    "    flag = (int(s) % 8 == 0)\n",
    "elif len(s) == 2:\n",
    "    flag = (int(s) % 8 == 0) or ((int(s[0]) + int(s[1]) * 2) % 8 == 0)\n",
    "else:\n",
    "    dic = collections.Counter(s)\n",
    "    a = []\n",
    "    for key in dic:\n",
    "        a.extend([int(key) for i in range(min(dic[key], 3))])\n",
    "\n",
    "    patterns = list(itertools.permutations(a, 3))\n",
    "    for p in patterns:\n",
    "        if (4 * p[0] + 2 * p[1] + p[2]) % 8 == 0:\n",
    "            flag = True\n",
    "            break\n",
    "if flag:\n",
    "    print('Yes')\n",
    "else:\n",
    "    print('No')"
   ]
  }
 ],
 "metadata": {
  "kernelspec": {
   "display_name": "Python 3",
   "language": "python",
   "name": "python3"
  },
  "language_info": {
   "codemirror_mode": {
    "name": "ipython",
    "version": 3
   },
   "file_extension": ".py",
   "mimetype": "text/x-python",
   "name": "python",
   "nbconvert_exporter": "python",
   "pygments_lexer": "ipython3",
   "version": "3.8.0"
  },
  "toc": {
   "base_numbering": 1,
   "nav_menu": {},
   "number_sections": false,
   "sideBar": true,
   "skip_h1_title": false,
   "title_cell": "Table of Contents",
   "title_sidebar": "Contents",
   "toc_cell": false,
   "toc_position": {},
   "toc_section_display": true,
   "toc_window_display": true
  }
 },
 "nbformat": 4,
 "nbformat_minor": 4
}
