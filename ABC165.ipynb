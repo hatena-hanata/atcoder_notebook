{
 "cells": [
  {
   "cell_type": "markdown",
   "metadata": {},
   "source": [
    "# A"
   ]
  },
  {
   "cell_type": "code",
   "execution_count": null,
   "metadata": {},
   "outputs": [],
   "source": [
    "k = int(input())\n",
    "a, b = map(int, input().split())\n",
    "flag = False\n",
    "for i in range(a, b+1):\n",
    "    if i % k == 0:\n",
    "        flag = True\n",
    "        break\n",
    "if flag:\n",
    "    print('OK')\n",
    "else:\n",
    "    print('NG')"
   ]
  },
  {
   "cell_type": "markdown",
   "metadata": {},
   "source": [
    "# B"
   ]
  },
  {
   "cell_type": "code",
   "execution_count": null,
   "metadata": {},
   "outputs": [],
   "source": [
    "x = int(input())\n",
    "cnt = 0\n",
    "now = 100\n",
    "while now < x:\n",
    "    now = int(now * 1.01)\n",
    "    cnt += 1\n",
    "print(cnt)"
   ]
  },
  {
   "cell_type": "markdown",
   "metadata": {},
   "source": [
    "# C"
   ]
  },
  {
   "cell_type": "code",
   "execution_count": null,
   "metadata": {},
   "outputs": [],
   "source": [
    "n, m, q = map(int, input().split())\n"
   ]
  },
  {
   "cell_type": "code",
   "execution_count": null,
   "metadata": {},
   "outputs": [],
   "source": [
    "import itertools\n",
    "\n",
    "n, m, q = map(int, input().split())\n",
    "query = []\n",
    "for i in range(q):\n",
    "    query.append(list(map(int, input().split())))\n",
    "\n",
    "choices = list(itertools.combinations_with_replacement([i for i in range(1, m+1)], n))\n",
    "ans = -1\n",
    "for choice in choices:\n",
    "    score = 0\n",
    "    for q in query:\n",
    "        if choice[q[1]-1] - choice[q[0]-1] == q[2]:\n",
    "            score += q[3]\n",
    "    ans = max(ans, score)\n",
    "print(ans)"
   ]
  },
  {
   "cell_type": "markdown",
   "metadata": {},
   "source": [
    "# D"
   ]
  },
  {
   "cell_type": "code",
   "execution_count": null,
   "metadata": {},
   "outputs": [],
   "source": [
    "a, b, n = map(int, input().split())\n",
    "\n",
    "if  n >= b:\n",
    "    r = b - 1\n",
    "else:\n",
    "    r = n\n",
    "    \n",
    "ans = (a * r) // b\n",
    "\n",
    "print(ans)"
   ]
  },
  {
   "cell_type": "markdown",
   "metadata": {},
   "source": [
    "# F"
   ]
  },
  {
   "cell_type": "code",
   "execution_count": null,
   "metadata": {},
   "outputs": [],
   "source": [
    "import numpy as np\n",
    "from scipy.sparse.csgraph import shortest_path\n",
    "import bisect\n",
    "\n",
    "def get_lis(seq):\n",
    "    LIS = [seq[0]]\n",
    "    for i in range(len(seq)):\n",
    "        if seq[i] > LIS[-1]:\n",
    "            LIS.append(seq[i])\n",
    "        else:\n",
    "            LIS[bisect.bisect_left(LIS, seq[i])] = seq[i]\n",
    "    return len(LIS)\n",
    "\n",
    "\n",
    "n = int(input())\n",
    "a = list(map(int, input().split()))\n",
    "graph = [[0 for i in range(n)] for j in range(n)]\n",
    "for i in range(n-1):\n",
    "    u, v = map(int, input().split())\n",
    "    graph[u-1][v-1] = 1\n",
    "    graph[v-1][u-1] = 1\n",
    "graph = np.array(graph)\n",
    "\n",
    "d, p = shortest_path(graph, return_predecessors=True, indices=0)\n",
    "\n",
    "for i in range(n):\n",
    "    seq = []\n",
    "    t = p[1:i+1]\n",
    "    for index in t:\n",
    "        seq.append(a[index])\n",
    "    print(get_lis(seq))"
   ]
  }
 ],
 "metadata": {
  "kernelspec": {
   "display_name": "Python 3",
   "language": "python",
   "name": "python3"
  },
  "language_info": {
   "codemirror_mode": {
    "name": "ipython",
    "version": 3
   },
   "file_extension": ".py",
   "mimetype": "text/x-python",
   "name": "python",
   "nbconvert_exporter": "python",
   "pygments_lexer": "ipython3",
   "version": "3.7.3"
  }
 },
 "nbformat": 4,
 "nbformat_minor": 2
}
