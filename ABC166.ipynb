{
 "cells": [
  {
   "cell_type": "markdown",
   "metadata": {},
   "source": [
    "# A"
   ]
  },
  {
   "cell_type": "code",
   "execution_count": null,
   "metadata": {},
   "outputs": [],
   "source": [
    "s = input()\n",
    "if s == 'ABC':\n",
    "    print('ARC')\n",
    "else:\n",
    "    print('ABC')"
   ]
  },
  {
   "cell_type": "markdown",
   "metadata": {},
   "source": [
    "# B"
   ]
  },
  {
   "cell_type": "code",
   "execution_count": null,
   "metadata": {},
   "outputs": [],
   "source": [
    "n, k = map(int, input().split())\n",
    "table = [False for i in range(n)]\n",
    "for i in range(k):\n",
    "    d = int(input())\n",
    "    a = list(map(int, input().split()))\n",
    "    for v in a:\n",
    "        table[v-1] = True\n",
    "ans = n - sum(table)\n",
    "print(ans)"
   ]
  },
  {
   "cell_type": "markdown",
   "metadata": {},
   "source": [
    "# C"
   ]
  },
  {
   "cell_type": "code",
   "execution_count": null,
   "metadata": {},
   "outputs": [],
   "source": [
    "n, m = map(int, input().split())\n",
    "h = list(map(int, input().split()))\n",
    "table = [[] for i in range(n)]\n",
    "for i in range(m):\n",
    "    a, b = map(int, input().split())\n",
    "    table[a-1].append(h[b-1])\n",
    "    table[b-1].append(h[a-1])\n",
    "\n",
    "ans = 0\n",
    "for i in range(n):\n",
    "    if len(table[i]) > 0:\n",
    "        if h[i] > max(table[i]):\n",
    "            ans += 1\n",
    "    else:\n",
    "        ans += 1\n",
    "print(ans)"
   ]
  },
  {
   "cell_type": "markdown",
   "metadata": {},
   "source": [
    "# D"
   ]
  },
  {
   "cell_type": "code",
   "execution_count": 25,
   "metadata": {},
   "outputs": [
    {
     "data": {
      "text/plain": [
       "[-100000,\n",
       " -59049,\n",
       " -32768,\n",
       " -16807,\n",
       " -7776,\n",
       " -3125,\n",
       " -1024,\n",
       " -243,\n",
       " -32,\n",
       " -1,\n",
       " 0,\n",
       " 1,\n",
       " 32,\n",
       " 243,\n",
       " 1024,\n",
       " 3125,\n",
       " 7776,\n",
       " 16807,\n",
       " 32768,\n",
       " 59049,\n",
       " 100000]"
      ]
     },
     "execution_count": 25,
     "metadata": {},
     "output_type": "execute_result"
    }
   ],
   "source": [
    "[pow(i, 5) for i in range(-10, 11)]"
   ]
  },
  {
   "cell_type": "code",
   "execution_count": 38,
   "metadata": {},
   "outputs": [
    {
     "name": "stdin",
     "output_type": "stream",
     "text": [
      " 1\n"
     ]
    },
    {
     "name": "stdout",
     "output_type": "stream",
     "text": [
      "0 -1\n"
     ]
    }
   ],
   "source": [
    "x = int(input())\n",
    "n = 10\n",
    "table = [pow(i, 5) for i in range(-n, n+1)]\n",
    "flag = False\n",
    "for i in range(n):\n",
    "    for j in range(n):\n",
    "        if posi[i] - nega[j] == x:\n",
    "            print(i, -j)\n",
    "            flag = True\n",
    "            if flag:\n",
    "                break\n",
    "    if flag:\n",
    "        break"
   ]
  },
  {
   "cell_type": "code",
   "execution_count": null,
   "metadata": {},
   "outputs": [],
   "source": [
    "import itertools\n",
    "\n",
    "x = int(input())\n",
    "n = 200\n",
    "table = [pow(i, 5) for i in range(-n, n+1)]\n",
    "choices = list(itertools.permutations([i for i in range(len(table))], 2))\n",
    "\n",
    "for choice in choices:\n",
    "    left = choice[0]\n",
    "    right = choice[1]\n",
    "    if table[left] - table[right] == x:\n",
    "        if left == n:\n",
    "            ans_left = 0\n",
    "        elif left < n:\n",
    "            ans_left = left - n\n",
    "        else:\n",
    "            ans_left = left % n\n",
    "            \n",
    "        if right == n:\n",
    "            ans_right = 0\n",
    "        elif right < n:\n",
    "            ans_right = right - n\n",
    "        else:\n",
    "            ans_right = right % n\n",
    "        break\n",
    "\n",
    "print(ans_left, ans_right)"
   ]
  }
 ],
 "metadata": {
  "kernelspec": {
   "display_name": "Python 3",
   "language": "python",
   "name": "python3"
  },
  "language_info": {
   "codemirror_mode": {
    "name": "ipython",
    "version": 3
   },
   "file_extension": ".py",
   "mimetype": "text/x-python",
   "name": "python",
   "nbconvert_exporter": "python",
   "pygments_lexer": "ipython3",
   "version": "3.7.3"
  }
 },
 "nbformat": 4,
 "nbformat_minor": 2
}
