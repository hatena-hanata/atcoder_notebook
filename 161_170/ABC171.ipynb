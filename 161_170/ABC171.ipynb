{
 "cells": [
  {
   "cell_type": "markdown",
   "metadata": {},
   "source": [
    "# A"
   ]
  },
  {
   "cell_type": "code",
   "execution_count": 2,
   "metadata": {},
   "outputs": [
    {
     "name": "stdin",
     "output_type": "stream",
     "text": [
      " j\n"
     ]
    },
    {
     "name": "stdout",
     "output_type": "stream",
     "text": [
      "a\n"
     ]
    }
   ],
   "source": [
    "s = input()\n",
    "if s.isupper():\n",
    "    print('A')\n",
    "else:\n",
    "    print('a')"
   ]
  },
  {
   "cell_type": "markdown",
   "metadata": {},
   "source": [
    "# B"
   ]
  },
  {
   "cell_type": "code",
   "execution_count": 4,
   "metadata": {},
   "outputs": [
    {
     "name": "stdin",
     "output_type": "stream",
     "text": [
      " 1 1\n",
      " 1000\n"
     ]
    },
    {
     "name": "stdout",
     "output_type": "stream",
     "text": [
      "1000\n"
     ]
    }
   ],
   "source": [
    "n, k = map(int, input().split())\n",
    "prices = list(map(int, input().split()))\n",
    "prices = sorted(prices)\n",
    "ans = sum(prices[:k])\n",
    "print(ans)"
   ]
  },
  {
   "cell_type": "markdown",
   "metadata": {},
   "source": [
    "# C"
   ]
  },
  {
   "cell_type": "code",
   "execution_count": 48,
   "metadata": {},
   "outputs": [
    {
     "name": "stdin",
     "output_type": "stream",
     "text": [
      " 123456789\n"
     ]
    },
    {
     "name": "stdout",
     "output_type": "stream",
     "text": [
      "jjddja\n"
     ]
    }
   ],
   "source": [
    "def num2alpha(num):\n",
    "    if num<=26:\n",
    "        return chr(64+num)\n",
    "    elif num%26==0:\n",
    "        return num2alpha(num//26-1)+chr(90)\n",
    "    else:\n",
    "        return num2alpha(num//26)+chr(64+num%26)\n",
    "\n",
    "n = int(input())\n",
    "ans = num2alpha(n).lower()\n",
    "print(ans)"
   ]
  },
  {
   "cell_type": "markdown",
   "metadata": {},
   "source": [
    "# D"
   ]
  },
  {
   "cell_type": "code",
   "execution_count": 25,
   "metadata": {},
   "outputs": [
    {
     "name": "stdin",
     "output_type": "stream",
     "text": [
      " 4\n",
      " 1 2 3 4\n",
      " 3\n",
      " 1 2\n",
      " 3 4\n",
      " 2 4\n"
     ]
    }
   ],
   "source": [
    "import collections\n",
    "\n",
    "n = int(input())\n",
    "a = list(map(int, input().split()))\n",
    "count = collections.Counter(a)\n",
    "ans = sum(a)\n",
    "\n",
    "q = int(input())\n",
    "for _ in range(q):\n",
    "    b, c = map(int, input().split())\n",
    "    diff = (c - b) * count[b]\n",
    "    count[c] += count[b]\n",
    "    count[b] = 0\n",
    "    ans += diff\n",
    "    print(ans)"
   ]
  }
 ],
 "metadata": {
  "kernelspec": {
   "display_name": "Python 3",
   "language": "python",
   "name": "python3"
  },
  "language_info": {
   "codemirror_mode": {
    "name": "ipython",
    "version": 3
   },
   "file_extension": ".py",
   "mimetype": "text/x-python",
   "name": "python",
   "nbconvert_exporter": "python",
   "pygments_lexer": "ipython3",
   "version": "3.7.3"
  }
 },
 "nbformat": 4,
 "nbformat_minor": 2
}
