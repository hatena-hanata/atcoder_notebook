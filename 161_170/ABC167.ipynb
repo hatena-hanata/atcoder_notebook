{
 "cells": [
  {
   "cell_type": "markdown",
   "metadata": {},
   "source": [
    "# A"
   ]
  },
  {
   "cell_type": "code",
   "execution_count": null,
   "metadata": {},
   "outputs": [],
   "source": [
    "s = input()\n",
    "t = input()\n",
    "if t[:-1] == s:\n",
    "    print('Yes')\n",
    "else:\n",
    "    print('No')"
   ]
  },
  {
   "cell_type": "markdown",
   "metadata": {},
   "source": [
    "# B"
   ]
  },
  {
   "cell_type": "code",
   "execution_count": null,
   "metadata": {},
   "outputs": [],
   "source": [
    "a, b, c, k = map(int, input().split())\n",
    "\n",
    "if k <= a:\n",
    "    ans = k\n",
    "elif k <= a+b:\n",
    "    ans = a\n",
    "elif k <= a+b+c:\n",
    "    ans = a - (k-a-b)\n",
    "else:\n",
    "    ans = a - c\n",
    "\n",
    "print(ans)"
   ]
  },
  {
   "cell_type": "markdown",
   "metadata": {},
   "source": [
    "# C"
   ]
  },
  {
   "cell_type": "code",
   "execution_count": null,
   "metadata": {},
   "outputs": [],
   "source": [
    "import numpy as np\n",
    "import itertools\n",
    "\n",
    "n, m, x = map(int, input().split())\n",
    "table = [[0 for i in range(m+1)] for j in  range(n)]\n",
    "for i in range(n):\n",
    "    tmp = list(map(int, input().split()))\n",
    "    for j in range(m+1):\n",
    "        table[i][j] = tmp[j]\n",
    "        \n",
    "table = np.array(table)\n",
    "\n",
    "ans = float('inf')\n",
    "for i in range(1, n+1):\n",
    "    choices = list(itertools.combinations(range(n), i))\n",
    "    for choice in choices:\n",
    "        score = np.array([0 for i in range(m+1)])\n",
    "        for c in choice:\n",
    "            score += table[c]\n",
    "        if all(score[1:] >= x):\n",
    "            ans = min(ans, score[0])\n",
    "            \n",
    "if ans == float('inf'):\n",
    "    ans = -1\n",
    "print(ans)"
   ]
  },
  {
   "cell_type": "markdown",
   "metadata": {},
   "source": [
    "# D"
   ]
  },
  {
   "cell_type": "code",
   "execution_count": null,
   "metadata": {},
   "outputs": [],
   "source": [
    "n, k = map(int, input().split())\n",
    "a = list(map(int, input().split()))\n",
    "visited = [False for i in range(n)]\n",
    "town = []\n",
    "\n",
    "now_town = 0\n",
    "step = 0\n",
    "while step <= k:\n",
    "    visited[now_town] = step\n",
    "    next_town = a[now_town] - 1\n",
    "    town.append(now_town)\n",
    "    if visited[next_town] is False:\n",
    "        now_town = next_town\n",
    "        step += 1\n",
    "    else:\n",
    "        break\n",
    "\n",
    "pre_step = visited[next_town]\n",
    "loop_step = step - pre_step + 1\n",
    "loop = town[pre_step:(step+1)]\n",
    "loop.append(town[0])\n",
    "\n",
    "index = (k - pre_step) % loop_step\n",
    "ans =loop[index] + 1\n",
    "print(ans)"
   ]
  }
 ],
 "metadata": {
  "kernelspec": {
   "display_name": "Python 3",
   "language": "python",
   "name": "python3"
  },
  "language_info": {
   "codemirror_mode": {
    "name": "ipython",
    "version": 3
   },
   "file_extension": ".py",
   "mimetype": "text/x-python",
   "name": "python",
   "nbconvert_exporter": "python",
   "pygments_lexer": "ipython3",
   "version": "3.7.3"
  }
 },
 "nbformat": 4,
 "nbformat_minor": 2
}
