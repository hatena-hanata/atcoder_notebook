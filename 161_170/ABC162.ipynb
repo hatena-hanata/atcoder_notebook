{
 "cells": [
  {
   "cell_type": "markdown",
   "metadata": {},
   "source": [
    "# ABC162"
   ]
  },
  {
   "cell_type": "markdown",
   "metadata": {},
   "source": [
    "## A"
   ]
  },
  {
   "cell_type": "code",
   "execution_count": null,
   "metadata": {},
   "outputs": [],
   "source": [
    "n = input()\n",
    "flag = False\n",
    "for c in n:\n",
    "    if c == '7':\n",
    "        flag = True\n",
    "        break\n",
    "if flag:\n",
    "    print('Yes')\n",
    "else:\n",
    "    print('No')"
   ]
  },
  {
   "cell_type": "markdown",
   "metadata": {},
   "source": [
    "## B"
   ]
  },
  {
   "cell_type": "code",
   "execution_count": null,
   "metadata": {},
   "outputs": [],
   "source": [
    "n = int(input())\n",
    "ans = 0\n",
    "for i in range(1, n+1):\n",
    "    if i % 3 != 0 and i % 5 != 0:\n",
    "        ans += i\n",
    "print(ans)"
   ]
  },
  {
   "cell_type": "markdown",
   "metadata": {},
   "source": [
    "## C"
   ]
  },
  {
   "cell_type": "code",
   "execution_count": null,
   "metadata": {},
   "outputs": [],
   "source": [
    "import math\n",
    "import collections\n",
    "\n",
    "k = int(input())\n",
    "gcd_table = [[0] * k for i in range(k)]\n",
    "for i in range(1, k+1):\n",
    "    for j in range(i, k+1):\n",
    "        gcd_table[i-1][j-1] = math.gcd(i, j)\n",
    "\n",
    "ans = 0\n",
    "combination_list = [0, 1, 3, 6]\n",
    "for p in range(1, k+1):\n",
    "    for q in range(p, k+1):\n",
    "        if gcd_table[p-1][q-1] == 0:\n",
    "            tmp_gcd = math.gcd(p, q)\n",
    "            gcd_table[p-1][q-1] = tmp_gcd\n",
    "        else:\n",
    "            tmp_gcd = gcd_table[p-1][q-1]\n",
    "        for r in range(q, k+1):\n",
    "            if gcd_table[q-1][r-1] == 0:\n",
    "                tmp_gcd_2 = math.gcd(q, r)\n",
    "                gcd_table[q-1][r-1] = tmp_gcd_2\n",
    "            else:\n",
    "                tmp_gcd_2 = gcd_table[q-1][r-1]\n",
    "            unique_num = len(collections.Counter([p, q, r]))\n",
    "            ans += math.gcd(tmp_gcd, tmp_gcd_2) * combination_list[unique_num]\n",
    "print(ans)"
   ]
  },
  {
   "cell_type": "markdown",
   "metadata": {},
   "source": [
    "PyPyだと通った"
   ]
  },
  {
   "cell_type": "markdown",
   "metadata": {},
   "source": [
    "## D"
   ]
  },
  {
   "cell_type": "code",
   "execution_count": null,
   "metadata": {},
   "outputs": [],
   "source": [
    "import collections\n",
    "n = int(input())\n",
    "s = input()\n",
    "c = collections.Counter(s)\n",
    "raw = c['R'] * c['G'] * c['B']\n",
    "\n",
    "for i in range(n):\n",
    "    for j in range(i+1, n):\n",
    "        if s[i] != s[j]:\n",
    "            step = j - i\n",
    "            k = j + step\n",
    "            try:\n",
    "                m = s[k]\n",
    "            except:\n",
    "                break\n",
    "            if s[i] != m and s[j] != m:\n",
    "                raw -= 1\n",
    "print(raw)"
   ]
  }
 ],
 "metadata": {
  "kernelspec": {
   "display_name": "Python 3",
   "language": "python",
   "name": "python3"
  },
  "language_info": {
   "codemirror_mode": {
    "name": "ipython",
    "version": 3
   },
   "file_extension": ".py",
   "mimetype": "text/x-python",
   "name": "python",
   "nbconvert_exporter": "python",
   "pygments_lexer": "ipython3",
   "version": "3.7.3"
  }
 },
 "nbformat": 4,
 "nbformat_minor": 2
}
