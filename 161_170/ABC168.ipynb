{
 "cells": [
  {
   "cell_type": "markdown",
   "metadata": {},
   "source": [
    "# A"
   ]
  },
  {
   "cell_type": "code",
   "execution_count": null,
   "metadata": {},
   "outputs": [],
   "source": [
    "n = input()\n",
    "if n[-1] == '3':\n",
    "    print('bon')\n",
    "elif n[-1] == '0' or n[-1] == '1' or n[-1] == '6' or n[-1] == '8':\n",
    "    print('pon')\n",
    "else:\n",
    "    print('hon')"
   ]
  },
  {
   "cell_type": "markdown",
   "metadata": {},
   "source": [
    "# B"
   ]
  },
  {
   "cell_type": "code",
   "execution_count": null,
   "metadata": {},
   "outputs": [],
   "source": [
    "k = int(input())\n",
    "s = input()\n",
    "\n",
    "if len(s) <= k:\n",
    "    print(s)\n",
    "else:\n",
    "    print(s[:k] + '...')"
   ]
  },
  {
   "cell_type": "markdown",
   "metadata": {},
   "source": [
    "# C"
   ]
  },
  {
   "cell_type": "code",
   "execution_count": null,
   "metadata": {},
   "outputs": [],
   "source": [
    "import math\n",
    "\n",
    "a, b, h, m = map(int, input().split())\n",
    "theta = abs(6 * m - ((h*60)+m)*0.5)\n",
    "theta = min(360-theta, theta)\n",
    "ans = math.sqrt(a**2 + b**2 - 2 * a * b * math.cos(math.radians(theta)))\n",
    "print(ans)"
   ]
  },
  {
   "cell_type": "markdown",
   "metadata": {},
   "source": [
    "# D"
   ]
  },
  {
   "cell_type": "code",
   "execution_count": null,
   "metadata": {},
   "outputs": [],
   "source": [
    "from collections import deque\n",
    "\n",
    "def bfs(index, ans):\n",
    "    d = deque()\n",
    "    ans[index] = 0\n",
    "    d.append(index)\n",
    "    while len(d) > 0:\n",
    "        v = d.popleft()\n",
    "        for node in table[v]:\n",
    "            if ans[node] == -1:\n",
    "                ans[node] = v\n",
    "                d.append(node)\n",
    "    return ans\n",
    "\n",
    "n, m = map(int, input().split())\n",
    "table = [[] for j in range(n)]\n",
    "for i in range(m):\n",
    "    a, b = map(int, input().split())\n",
    "    table[a-1].append(b-1)\n",
    "    table[b-1].append(a-1)\n",
    "ans = [-1 for i in range(n)]\n",
    "ans = bfs(0, ans)\n",
    "if -1 in ans:\n",
    "    print('No')\n",
    "else:\n",
    "    print('Yes')\n",
    "    for a in ans[1:]:\n",
    "        print(a+1)"
   ]
  }
 ],
 "metadata": {
  "kernelspec": {
   "display_name": "Python 3",
   "language": "python",
   "name": "python3"
  },
  "language_info": {
   "codemirror_mode": {
    "name": "ipython",
    "version": 3
   },
   "file_extension": ".py",
   "mimetype": "text/x-python",
   "name": "python",
   "nbconvert_exporter": "python",
   "pygments_lexer": "ipython3",
   "version": "3.7.3"
  }
 },
 "nbformat": 4,
 "nbformat_minor": 2
}
