{
 "cells": [
  {
   "cell_type": "markdown",
   "metadata": {},
   "source": [
    "# A"
   ]
  },
  {
   "cell_type": "code",
   "execution_count": null,
   "metadata": {},
   "outputs": [],
   "source": [
    "c = input()\n",
    "ans = chr(ord(c) + 1)\n",
    "print(ans)"
   ]
  },
  {
   "cell_type": "markdown",
   "metadata": {},
   "source": [
    "# B"
   ]
  },
  {
   "cell_type": "code",
   "execution_count": null,
   "metadata": {},
   "outputs": [],
   "source": [
    "n, k, m = map(int, input().split())\n",
    "a = list(map(int, input().split()))\n",
    "\n",
    "ans = n * m - sum(a)\n",
    "if ans < 0:\n",
    "    ans = 0\n",
    "elif ans > k:\n",
    "    ans = -1\n",
    "print(ans)"
   ]
  },
  {
   "cell_type": "markdown",
   "metadata": {},
   "source": [
    "# C"
   ]
  },
  {
   "cell_type": "code",
   "execution_count": null,
   "metadata": {},
   "outputs": [],
   "source": [
    "n, m = map(int, input().split())\n",
    "penalty_num = [0 for i in range(n)]\n",
    "acc = 0\n",
    "ac_flag = [False for i in range(n)]\n",
    "\n",
    "for i in range(m):\n",
    "    p, s = input().split()\n",
    "    q_num = int(p) - 1\n",
    "    # WA\n",
    "    if s == 'WA':\n",
    "        if ac_flag[q_num]:\n",
    "            continue\n",
    "        else:\n",
    "            penalty_num[q_num] += 1\n",
    "    # AC\n",
    "    else:\n",
    "        if ac_flag[q_num]:\n",
    "            continue\n",
    "        else:\n",
    "            ac_flag[q_num] = True\n",
    "            acc += 1\n",
    "penalty = 0\n",
    "for n, flag in zip(penalty_num, ac_flag):\n",
    "    if flag:\n",
    "        penalty += n\n",
    "print('{} {}'.format(acc, penalty))"
   ]
  },
  {
   "cell_type": "code",
   "execution_count": null,
   "metadata": {},
   "outputs": [],
   "source": []
  }
 ],
 "metadata": {
  "kernelspec": {
   "display_name": "Python 3",
   "language": "python",
   "name": "python3"
  },
  "language_info": {
   "codemirror_mode": {
    "name": "ipython",
    "version": 3
   },
   "file_extension": ".py",
   "mimetype": "text/x-python",
   "name": "python",
   "nbconvert_exporter": "python",
   "pygments_lexer": "ipython3",
   "version": "3.7.3"
  }
 },
 "nbformat": 4,
 "nbformat_minor": 2
}
