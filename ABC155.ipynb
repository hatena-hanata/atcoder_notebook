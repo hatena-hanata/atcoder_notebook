{
 "cells": [
  {
   "cell_type": "markdown",
   "metadata": {},
   "source": [
    "# A"
   ]
  },
  {
   "cell_type": "code",
   "execution_count": null,
   "metadata": {},
   "outputs": [],
   "source": [
    "a, b, c = map(int, input().split())\n",
    "if len(set([a, b, c])) == 2:\n",
    "    print('Yes')\n",
    "else:\n",
    "    print('No')"
   ]
  },
  {
   "cell_type": "markdown",
   "metadata": {},
   "source": [
    "# B"
   ]
  },
  {
   "cell_type": "code",
   "execution_count": null,
   "metadata": {},
   "outputs": [],
   "source": [
    "n = int(input())\n",
    "a = list(map(int, input().split()))\n",
    "flag = False\n",
    "for v in a:\n",
    "    if v % 2 == 0:\n",
    "        if v % 3 != 0 and v % 5 != 0:\n",
    "            flag = True\n",
    "if flag:\n",
    "    print('DENIED')\n",
    "else:\n",
    "    print('APPROVED')"
   ]
  },
  {
   "cell_type": "markdown",
   "metadata": {},
   "source": [
    "# C"
   ]
  },
  {
   "cell_type": "code",
   "execution_count": null,
   "metadata": {},
   "outputs": [],
   "source": [
    "import collections\n",
    "\n",
    "words = []\n",
    "n = int(input())\n",
    "for i in range(n):\n",
    "    words.append(input())\n",
    "c = collections.Counter(words)\n",
    "l = c.most_common()\n",
    "ans = []\n",
    "maxi = l[0][1]\n",
    "for pair in l:\n",
    "    if pair[1] == maxi:\n",
    "        ans.append(pair[0])\n",
    "ans = sorted(ans)\n",
    "for i in ans:\n",
    "    print(i)"
   ]
  },
  {
   "cell_type": "markdown",
   "metadata": {},
   "source": [
    "# D"
   ]
  },
  {
   "cell_type": "code",
   "execution_count": null,
   "metadata": {},
   "outputs": [],
   "source": [
    "n, k = map(int, input().split())\n",
    "a = list(map(int, input().split()))\n",
    "\n",
    "# inputを正負で分割\n",
    "p = []\n",
    "ne = []\n",
    "z = 0\n",
    "for v in a:\n",
    "    if v > 0:\n",
    "        p.append(v)\n",
    "    elif v == 0:\n",
    "        z += 1\n",
    "    else:\n",
    "        ne.append(v)\n",
    "l_p = len(p)\n",
    "l_n = len(ne)\n",
    "\n",
    "num_negative = l_p * l_n\n",
    "if z != 0:\n",
    "    num_zero = int((l_p + l_n) * z + z * (z-1) / 2)\n",
    "else:\n",
    "    num_zero = 0\n",
    "\n",
    "if l_p > 0 and l_n > 0:\n",
    "    num_positive = int(l_p * (l_p-1) / 2 + l_n * (l_n-1) / 2)\n",
    "    tmp = []\n",
    "    if k <= num_negative:\n",
    "        for i in p:\n",
    "            for j in ne:\n",
    "                tmp.append(i*j)\n",
    "        ans = sorted(tmp)[k-1]\n",
    "    elif num_negative < k <= num_negative + num_zero:\n",
    "        ans = 0\n",
    "    else:\n",
    "        index = k - num_negative - num_zero - 1\n",
    "        for i in range(l_p):\n",
    "            for j in range(i+1, l_p):\n",
    "                tmp.append(p[i]*p[j])\n",
    "        for i in range(l_n):\n",
    "            for j in range(i+1, l_n):\n",
    "                tmp.append(ne[i]*ne[j])\n",
    "        ans = sorted(tmp)[index]\n",
    "        \n",
    "# positive only\n",
    "elif l_p > 0 and l_n == 0:\n",
    "    if k <= num_zero:\n",
    "        ans = 0\n",
    "    else:\n",
    "        p = sorted(p)\n",
    "        index_tmp = k - num_zero\n",
    "        i = 1\n",
    "        while index_tmp > 0:\n",
    "            if index_tmp > (l_p - i):\n",
    "                index_tmp = index_tmp - (l_p - i)\n",
    "                i += 1\n",
    "            else:\n",
    "                ans = p[i-1] * p[i-1 + index_tmp]\n",
    "                break\n",
    "\n",
    "elif l_p == 0 and l_n > 0:\n",
    "    if k <= num_zero:\n",
    "        ans = 0\n",
    "    else:\n",
    "        ne = sorted([-1*v for v in ne])\n",
    "        # n = list(np.sort(np.array(n) * -1))\n",
    "        index_tmp = k - num_zero\n",
    "        i = 1\n",
    "        while index_tmp > 0:\n",
    "            if index_tmp > (l_n - i):\n",
    "                index_tmp = index_tmp - (l_n - i)\n",
    "                i += 1\n",
    "            else:\n",
    "                ans = ne[i-1] * ne[i-1 + index_tmp]\n",
    "                break\n",
    "\n",
    "\n",
    "print(ans)"
   ]
  }
 ],
 "metadata": {
  "kernelspec": {
   "display_name": "Python 3",
   "language": "python",
   "name": "python3"
  },
  "language_info": {
   "codemirror_mode": {
    "name": "ipython",
    "version": 3
   },
   "file_extension": ".py",
   "mimetype": "text/x-python",
   "name": "python",
   "nbconvert_exporter": "python",
   "pygments_lexer": "ipython3",
   "version": "3.7.3"
  }
 },
 "nbformat": 4,
 "nbformat_minor": 2
}
