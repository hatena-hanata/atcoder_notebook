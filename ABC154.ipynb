{
 "cells": [
  {
   "cell_type": "markdown",
   "metadata": {},
   "source": [
    "# A"
   ]
  },
  {
   "cell_type": "code",
   "execution_count": null,
   "metadata": {},
   "outputs": [],
   "source": [
    "s, t = input().split()\n",
    "a, b = map(int, input().split())\n",
    "u = input()\n",
    "\n",
    "print(a-1, b) if s == u else print(a, b-1)"
   ]
  },
  {
   "cell_type": "markdown",
   "metadata": {},
   "source": [
    "# B"
   ]
  },
  {
   "cell_type": "code",
   "execution_count": null,
   "metadata": {},
   "outputs": [],
   "source": [
    "s = input()\n",
    "for i in range(len(s)):\n",
    "    print('x', end='')"
   ]
  },
  {
   "cell_type": "markdown",
   "metadata": {},
   "source": [
    "# C"
   ]
  },
  {
   "cell_type": "code",
   "execution_count": null,
   "metadata": {},
   "outputs": [],
   "source": [
    "n = int(input())\n",
    "a = list(map(int, input().split()))\n",
    "set_a = set(a)\n",
    "if n != len(set_a):\n",
    "    print('NO')\n",
    "else:\n",
    "    print('YES')"
   ]
  },
  {
   "cell_type": "markdown",
   "metadata": {},
   "source": [
    "# D"
   ]
  },
  {
   "cell_type": "code",
   "execution_count": null,
   "metadata": {},
   "outputs": [],
   "source": [
    "n, k = map(int, input().split())\n",
    "table = [0.5+i*0.5 for i in range(1001)]\n",
    "a = list(map(int, input().split()))\n",
    "\n",
    "ans = sum([table[a[i]] for i in range(k)])\n",
    "last = ans\n",
    "for i in range(1, n-k+1):\n",
    "    last = last - table[a[i-1]] + table[a[i+k-1]]\n",
    "    ans = max(last, ans)\n",
    "print(ans)"
   ]
  },
  {
   "cell_type": "markdown",
   "metadata": {},
   "source": [
    "# D"
   ]
  },
  {
   "cell_type": "code",
   "execution_count": null,
   "metadata": {},
   "outputs": [],
   "source": [
    "n = int(input())\n",
    "k = int(input())\n",
    "\n",
    "l_n = len(str(n))\n",
    "\n",
    "t = [i for i in range(1, 102)]\n",
    "print(t)\n",
    "\n",
    "if k == 1:\n",
    "    table = [1 for i in range(l_n-1)]\n",
    "elif k == 2:\n",
    "    table = t[:(l_n-2)]\n",
    "elif k == 3:\n",
    "    table = [0]\n",
    "    for i in range(1,l_n-2):\n",
    "        table.append(table[i-1]+i)\n",
    "print(table)\n",
    "\n",
    "ans += 9**k * (sum(table))\n",
    "\n",
    "for i in range(10**(l_n-1), n+1):\n",
    "    if str(i).count('0') == l_n - k:\n",
    "        ans += 1\n",
    "\n",
    "print(ans)"
   ]
  }
 ],
 "metadata": {
  "kernelspec": {
   "display_name": "Python 3",
   "language": "python",
   "name": "python3"
  },
  "language_info": {
   "codemirror_mode": {
    "name": "ipython",
    "version": 3
   },
   "file_extension": ".py",
   "mimetype": "text/x-python",
   "name": "python",
   "nbconvert_exporter": "python",
   "pygments_lexer": "ipython3",
   "version": "3.7.3"
  }
 },
 "nbformat": 4,
 "nbformat_minor": 2
}
